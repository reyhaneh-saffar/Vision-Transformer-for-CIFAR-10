{
  "cells": [
    {
      "cell_type": "markdown",
      "metadata": {
        "id": "DLm8nlr0hUlN"
      },
      "source": [
        "# CIFAR-10 Vision Transformer"
      ]
    },
    {
      "cell_type": "markdown",
      "metadata": {
        "id": "UzEW0MP3jb0-"
      },
      "source": [
        "Training a ViT model on CIFAR-10 dataset and using a pre-trained ViT for improving accuracy."
      ]
    },
    {
      "cell_type": "code",
      "execution_count": null,
      "metadata": {
        "id": "77p31ePZhP0b"
      },
      "outputs": [],
      "source": [
        "import torch\n",
        "import torch.nn as nn\n",
        "import torchvision.transforms as transforms\n",
        "from torch.utils.data import DataLoader\n",
        "from torchvision.datasets import CIFAR10\n",
        "from transformers import ViTModel\n",
        "from torchvision import models"
      ]
    },
    {
      "cell_type": "markdown",
      "metadata": {
        "id": "QwkxIMQunJ5Q"
      },
      "source": [
        "## Implementation of ViT"
      ]
    },
    {
      "cell_type": "markdown",
      "metadata": {
        "id": "HVsiTbdbhcqN"
      },
      "source": [
        "Multi-head attention module"
      ]
    },
    {
      "cell_type": "code",
      "execution_count": null,
      "metadata": {
        "id": "leTYxqjIgEuA"
      },
      "outputs": [],
      "source": [
        "class MultiheadAttentionEinsum(nn.Module):\n",
        "    def __init__(self, embedding_dim, num_heads):\n",
        "        super(MultiheadAttentionEinsum, self).__init__()\n",
        "        self.num_heads = num_heads\n",
        "        self.head_dim = embedding_dim // num_heads\n",
        "        assert embedding_dim % num_heads == 0\n",
        "        self.q_linear = nn.Linear(embedding_dim, embedding_dim)\n",
        "        self.k_linear = nn.Linear(embedding_dim, embedding_dim)\n",
        "        self.v_linear = nn.Linear(embedding_dim, embedding_dim)\n",
        "        self.fc_out = nn.Linear(embedding_dim, embedding_dim)\n",
        "\n",
        "    def forward(self, query, key, value):\n",
        "        batch_size = query.shape[0]\n",
        "        # Linear projections\n",
        "        Q = self.q_linear(query)\n",
        "        K = self.k_linear(key)\n",
        "        V = self.v_linear(value)\n",
        "        Q = Q.view(batch_size, -1, self.num_heads, self.head_dim).transpose(1, 2)\n",
        "        K = K.view(batch_size, -1, self.num_heads, self.head_dim).transpose(1, 2)\n",
        "        V = V.view(batch_size, -1, self.num_heads, self.head_dim).transpose(1, 2)\n",
        "        # Scaled dot-product attention\n",
        "        scores = torch.einsum('bnqd,bnkd->bnqk', Q, K) / (self.head_dim ** 0.5)\n",
        "        attention = torch.softmax(scores, dim=-1)\n",
        "        # Attended values\n",
        "        attended_values = torch.einsum('bnqk,bnvd->bnqd', attention, V).transpose(1, 2)\n",
        "        attended_values = attended_values.reshape(batch_size, -1, self.num_heads * self.head_dim)\n",
        "        # Final linear projection\n",
        "        out = self.fc_out(attended_values)\n",
        "        return out"
      ]
    },
    {
      "cell_type": "markdown",
      "metadata": {
        "id": "WCsgH6ifh48h"
      },
      "source": [
        "Encoder layer"
      ]
    },
    {
      "cell_type": "code",
      "execution_count": null,
      "metadata": {
        "id": "HuZiPWITgcl-"
      },
      "outputs": [],
      "source": [
        "class TransformerEncoderLayer(nn.Module):\n",
        "    def __init__(self, embedding_dim, num_heads):\n",
        "        super(TransformerEncoderLayer, self).__init__()\n",
        "        self.multihead_attention = MultiheadAttentionEinsum(embed_dim=embedding_dim, num_heads=num_heads)\n",
        "        self.feed_forward = nn.Sequential(\n",
        "            nn.Linear(embedding_dim, 2048),\n",
        "            nn.ReLU(),\n",
        "            nn.Linear(2048, embedding_dim)\n",
        "        )\n",
        "        self.layer_norm1 = nn.LayerNorm(embedding_dim)\n",
        "        self.layer_norm2 = nn.LayerNorm(embedding_dim)\n",
        "\n",
        "    def forward(self, x):\n",
        "        residual = x\n",
        "        x = self.layer_norm1(x)\n",
        "        x = x.permute(1, 0, 2)\n",
        "        attn_output = self.multihead_attention(x, x, x)[0]\n",
        "        x = attn_output + residual\n",
        "        x = x.permute(1, 0, 2)\n",
        "        residual = x\n",
        "        x = self.layer_norm2(x)\n",
        "        x = self.feed_forward(x)\n",
        "        x = x + residual\n",
        "        return x"
      ]
    },
    {
      "cell_type": "markdown",
      "metadata": {
        "id": "klWsZF1uiFiN"
      },
      "source": [
        "The whole model"
      ]
    },
    {
      "cell_type": "code",
      "execution_count": null,
      "metadata": {
        "id": "UXIw0dhkmYzb"
      },
      "outputs": [],
      "source": [
        "class VisionTransformer(nn.Module):\n",
        "    def __init__(self, num_classes, patch_size, embedding_dim, num_heads, num_layers):\n",
        "        super(VisionTransformer, self).__init__()\n",
        "        self.patch_embedding = nn.Conv2d(3, embedding_dim, kernel_size=patch_size, stride=patch_size)\n",
        "        self.positional_encoding = nn.Parameter(torch.randn(1, 14 * 14 + 1, embedding_dim))\n",
        "        self.transformer_layers = nn.ModuleList([\n",
        "            nn.TransformerEncoderLayer(d_model=embedding_dim, nhead=num_heads) for _ in range(num_layers)\n",
        "        ])\n",
        "        self.fc = nn.Linear(embedding_dim, num_classes)\n",
        "\n",
        "    def forward(self, x):\n",
        "        batch_size = x.size(0)\n",
        "        x = self.patch_embedding(x)\n",
        "        x = x.flatten(2).transpose(1, 2)\n",
        "        x = torch.cat((x, self.positional_encoding.repeat(batch_size, 1, 1)), dim=1)\n",
        "        for layer in self.transformer_layers:\n",
        "            x = layer(x)\n",
        "        x = x.mean(dim=1)\n",
        "        x = self.fc(x)\n",
        "        return x"
      ]
    },
    {
      "cell_type": "code",
      "execution_count": null,
      "metadata": {
        "id": "NczLNxHriKet"
      },
      "outputs": [],
      "source": [
        "device = torch.device('cuda' if torch.cuda.is_available() else 'cpu')"
      ]
    },
    {
      "cell_type": "markdown",
      "metadata": {
        "id": "Kn-fVYVNiMw0"
      },
      "source": [
        "Hyperparameters"
      ]
    },
    {
      "cell_type": "code",
      "execution_count": null,
      "metadata": {
        "id": "4CWeWiUyiPa9"
      },
      "outputs": [],
      "source": [
        "num_epochs = 10\n",
        "batch_size = 64\n",
        "learning_rate = 0.001\n",
        "num_classes = 10\n",
        "patch_size = 16\n",
        "embedding_dim = 128\n",
        "num_heads = 8\n",
        "num_layers = 3"
      ]
    },
    {
      "cell_type": "markdown",
      "metadata": {
        "id": "i2NGt13JiRB0"
      },
      "source": [
        "Loading and preprocessing dataset"
      ]
    },
    {
      "cell_type": "code",
      "execution_count": null,
      "metadata": {
        "id": "95mieys0iT3A"
      },
      "outputs": [],
      "source": [
        "transform = transforms.Compose([\n",
        "    transforms.Resize((224, 224)),\n",
        "    transforms.ToTensor(),\n",
        "    transforms.Normalize((0.5, 0.5, 0.5), (0.5, 0.5, 0.5))\n",
        "])"
      ]
    },
    {
      "cell_type": "code",
      "execution_count": null,
      "metadata": {
        "colab": {
          "base_uri": "https://localhost:8080/"
        },
        "id": "Hf_qf6VBgnhS",
        "outputId": "e1227286-5d39-4b3a-f43a-5837d53d8bf5"
      },
      "outputs": [
        {
          "name": "stdout",
          "output_type": "stream",
          "text": [
            "Files already downloaded and verified\n",
            "Files already downloaded and verified\n"
          ]
        }
      ],
      "source": [
        "train_dataset = CIFAR10(root='./data', train=True, download=True, transform=transform)\n",
        "test_dataset = CIFAR10(root='./data', train=False, download=True, transform=transform)\n",
        "\n",
        "train_loader = DataLoader(dataset=train_dataset, batch_size=batch_size, shuffle=True)\n",
        "test_loader = DataLoader(dataset=test_dataset, batch_size=batch_size, shuffle=False)"
      ]
    },
    {
      "cell_type": "markdown",
      "metadata": {
        "id": "PKByGk6nidnD"
      },
      "source": [
        "Building the model"
      ]
    },
    {
      "cell_type": "code",
      "execution_count": null,
      "metadata": {
        "id": "Q2p2ytdgifrS"
      },
      "outputs": [],
      "source": [
        "model = VisionTransformer(num_classes, patch_size, embedding_dim, num_heads, num_layers).to(device)"
      ]
    },
    {
      "cell_type": "code",
      "execution_count": null,
      "metadata": {
        "id": "JDkxAxM-iiF_"
      },
      "outputs": [],
      "source": [
        "criterion = nn.CrossEntropyLoss()\n",
        "optimizer = torch.optim.Adam(model.parameters(), lr=learning_rate)"
      ]
    },
    {
      "cell_type": "markdown",
      "metadata": {
        "id": "CkOBUTKtis6n"
      },
      "source": [
        "Training loop"
      ]
    },
    {
      "cell_type": "code",
      "execution_count": null,
      "metadata": {
        "colab": {
          "base_uri": "https://localhost:8080/"
        },
        "collapsed": true,
        "id": "Q1iPe3XBg8_j",
        "outputId": "ad2b68e7-9bdb-41d2-f078-032638c6ece8"
      },
      "outputs": [
        {
          "name": "stdout",
          "output_type": "stream",
          "text": [
            "Epoch [1/10], Step [100/782], Loss: 2.1743\n",
            "Epoch [1/10], Step [200/782], Loss: 2.2628\n",
            "Epoch [1/10], Step [300/782], Loss: 2.0070\n",
            "Epoch [1/10], Step [400/782], Loss: 2.0852\n",
            "Epoch [1/10], Step [500/782], Loss: 2.0053\n",
            "Epoch [1/10], Step [600/782], Loss: 2.0632\n",
            "Epoch [1/10], Step [700/782], Loss: 1.8688\n",
            "Epoch [2/10], Step [100/782], Loss: 1.9895\n",
            "Epoch [2/10], Step [200/782], Loss: 2.0050\n",
            "Epoch [2/10], Step [300/782], Loss: 2.1289\n",
            "Epoch [2/10], Step [400/782], Loss: 2.0359\n",
            "Epoch [2/10], Step [500/782], Loss: 2.0502\n",
            "Epoch [2/10], Step [600/782], Loss: 1.9462\n",
            "Epoch [2/10], Step [700/782], Loss: 2.0446\n",
            "Epoch [3/10], Step [100/782], Loss: 2.0215\n",
            "Epoch [3/10], Step [200/782], Loss: 2.0119\n",
            "Epoch [3/10], Step [300/782], Loss: 1.9910\n",
            "Epoch [3/10], Step [400/782], Loss: 2.0592\n",
            "Epoch [3/10], Step [500/782], Loss: 2.0573\n",
            "Epoch [3/10], Step [600/782], Loss: 1.9202\n",
            "Epoch [3/10], Step [700/782], Loss: 2.0267\n",
            "Epoch [4/10], Step [100/782], Loss: 2.0055\n",
            "Epoch [4/10], Step [200/782], Loss: 2.1177\n",
            "Epoch [4/10], Step [300/782], Loss: 2.2351\n",
            "Epoch [4/10], Step [400/782], Loss: 2.0324\n",
            "Epoch [4/10], Step [500/782], Loss: 2.0808\n",
            "Epoch [4/10], Step [600/782], Loss: 2.0480\n",
            "Epoch [4/10], Step [700/782], Loss: 2.0805\n",
            "Epoch [5/10], Step [100/782], Loss: 2.0813\n",
            "Epoch [5/10], Step [200/782], Loss: 2.1287\n",
            "Epoch [5/10], Step [300/782], Loss: 1.9806\n",
            "Epoch [5/10], Step [400/782], Loss: 1.9849\n",
            "Epoch [5/10], Step [500/782], Loss: 2.0268\n",
            "Epoch [5/10], Step [600/782], Loss: 1.9493\n",
            "Epoch [5/10], Step [700/782], Loss: 2.0534\n",
            "Epoch [6/10], Step [100/782], Loss: 2.0899\n",
            "Epoch [6/10], Step [200/782], Loss: 1.9105\n",
            "Epoch [6/10], Step [300/782], Loss: 2.0344\n",
            "Epoch [6/10], Step [400/782], Loss: 1.9829\n",
            "Epoch [6/10], Step [500/782], Loss: 1.9103\n",
            "Epoch [6/10], Step [600/782], Loss: 2.0154\n",
            "Epoch [6/10], Step [700/782], Loss: 2.0977\n",
            "Epoch [7/10], Step [100/782], Loss: 2.0308\n",
            "Epoch [7/10], Step [200/782], Loss: 2.0660\n",
            "Epoch [7/10], Step [300/782], Loss: 1.8006\n",
            "Epoch [7/10], Step [400/782], Loss: 1.8239\n",
            "Epoch [7/10], Step [500/782], Loss: 1.9274\n",
            "Epoch [7/10], Step [600/782], Loss: 2.0221\n",
            "Epoch [7/10], Step [700/782], Loss: 1.9716\n",
            "Epoch [8/10], Step [100/782], Loss: 1.8380\n",
            "Epoch [8/10], Step [200/782], Loss: 1.6963\n",
            "Epoch [8/10], Step [300/782], Loss: 2.0507\n",
            "Epoch [8/10], Step [400/782], Loss: 1.7727\n",
            "Epoch [8/10], Step [500/782], Loss: 1.6625\n",
            "Epoch [8/10], Step [600/782], Loss: 1.8752\n",
            "Epoch [8/10], Step [700/782], Loss: 1.7577\n",
            "Epoch [9/10], Step [100/782], Loss: 1.8638\n",
            "Epoch [9/10], Step [200/782], Loss: 1.8020\n",
            "Epoch [9/10], Step [300/782], Loss: 1.9674\n",
            "Epoch [9/10], Step [400/782], Loss: 1.7082\n",
            "Epoch [9/10], Step [500/782], Loss: 1.6435\n",
            "Epoch [9/10], Step [600/782], Loss: 1.8944\n",
            "Epoch [9/10], Step [700/782], Loss: 1.9130\n",
            "Epoch [10/10], Step [100/782], Loss: 1.7538\n",
            "Epoch [10/10], Step [200/782], Loss: 1.8173\n",
            "Epoch [10/10], Step [300/782], Loss: 1.5487\n",
            "Epoch [10/10], Step [400/782], Loss: 1.9728\n",
            "Epoch [10/10], Step [500/782], Loss: 1.4453\n",
            "Epoch [10/10], Step [600/782], Loss: 1.6835\n",
            "Epoch [10/10], Step [700/782], Loss: 1.6234\n"
          ]
        }
      ],
      "source": [
        "total_steps = len(train_loader)\n",
        "for epoch in range(num_epochs):\n",
        "    model.train()\n",
        "    for i, (images, labels) in enumerate(train_loader):\n",
        "        images = images.to(device)\n",
        "        labels = labels.to(device)\n",
        "        outputs = model(images)\n",
        "        loss = criterion(outputs, labels)\n",
        "        optimizer.zero_grad()\n",
        "        loss.backward()\n",
        "        optimizer.step()\n",
        "        if (i + 1) % 100 == 0:\n",
        "            print(f'Epoch [{epoch+1}/{num_epochs}], Step [{i+1}/{total_steps}], Loss: {loss.item():.4f}')"
      ]
    },
    {
      "cell_type": "markdown",
      "metadata": {
        "id": "HuNsN7Yki-sk"
      },
      "source": [
        "Evaluation and accuracy"
      ]
    },
    {
      "cell_type": "code",
      "execution_count": null,
      "metadata": {
        "colab": {
          "base_uri": "https://localhost:8080/"
        },
        "id": "AoG3m2IPhCoH",
        "outputId": "dff9e961-3a67-4115-f2e3-1a894af0721d"
      },
      "outputs": [
        {
          "name": "stdout",
          "output_type": "stream",
          "text": [
            "Test Accuracy of the model on the 10000 test images: 38.99%\n"
          ]
        }
      ],
      "source": [
        "model.eval()\n",
        "with torch.no_grad():\n",
        "    correct = 0\n",
        "    total = 0\n",
        "    for images, labels in test_loader:\n",
        "        images = images.to(device)\n",
        "        labels = labels.to(device)\n",
        "        outputs = model(images)\n",
        "        _, predicted = torch.max(outputs.data, 1)\n",
        "        total += labels.size(0)\n",
        "        correct += (predicted == labels).sum().item()\n",
        "    accuracy = 100 * correct / total\n",
        "    print(f'Test Accuracy of the model on the {total} test images: {accuracy:.2f}%')"
      ]
    },
    {
      "cell_type": "markdown",
      "metadata": {
        "id": "tZ_J3f4XnWV3"
      },
      "source": [
        "---\n",
        "Here we change and test hyperparameters to get better results.\n",
        "\n",
        "It is also notable that we could not run a heavy model due to colab's limitations.\n",
        "\n",
        "\n",
        "Overall changes\n",
        "* Higher value for number of epochs\n",
        "* Increased batch size and number of layers\n",
        "* Reduced embedding dim and number of heads"
      ]
    },
    {
      "cell_type": "code",
      "execution_count": null,
      "metadata": {
        "id": "iUl0a1RcpTxb"
      },
      "outputs": [],
      "source": [
        "num_epochs = 20\n",
        "batch_size = 256\n",
        "learning_rate = 0.001\n",
        "num_classes = 10\n",
        "patch_size = 16\n",
        "embedding_dim = 64\n",
        "num_heads = 4\n",
        "num_layers = 4"
      ]
    },
    {
      "cell_type": "code",
      "execution_count": null,
      "metadata": {
        "id": "TBTlHwqnpRWZ"
      },
      "outputs": [],
      "source": [
        "transform = transforms.Compose([\n",
        "    transforms.Resize((224, 224)),\n",
        "    transforms.ToTensor(),\n",
        "    transforms.Normalize((0.5, 0.5, 0.5), (0.5, 0.5, 0.5))\n",
        "])"
      ]
    },
    {
      "cell_type": "code",
      "execution_count": null,
      "metadata": {
        "colab": {
          "base_uri": "https://localhost:8080/"
        },
        "id": "cZzMthYJpMsZ",
        "outputId": "e5685976-ab53-469b-de14-867e1a56d5e3"
      },
      "outputs": [
        {
          "name": "stdout",
          "output_type": "stream",
          "text": [
            "Files already downloaded and verified\n",
            "Files already downloaded and verified\n"
          ]
        }
      ],
      "source": [
        "train_dataset = CIFAR10(root='./data', train=True, download=True, transform=transform)\n",
        "test_dataset = CIFAR10(root='./data', train=False, download=True, transform=transform)\n",
        "\n",
        "train_loader = DataLoader(dataset=train_dataset, batch_size=batch_size, shuffle=True)\n",
        "test_loader = DataLoader(dataset=test_dataset, batch_size=batch_size, shuffle=False)"
      ]
    },
    {
      "cell_type": "code",
      "execution_count": null,
      "metadata": {
        "id": "Hizh8YWBoJF_"
      },
      "outputs": [],
      "source": [
        "model = VisionTransformer(num_classes, patch_size, embedding_dim, num_heads, num_layers).to(device)\n",
        "criterion = nn.CrossEntropyLoss()\n",
        "optimizer = torch.optim.Adam(model.parameters(), lr=learning_rate)"
      ]
    },
    {
      "cell_type": "code",
      "execution_count": null,
      "metadata": {
        "colab": {
          "base_uri": "https://localhost:8080/"
        },
        "id": "HPBbrMx_oiPh",
        "outputId": "87441d58-5395-4ee1-d419-1c1dd281e972"
      },
      "outputs": [
        {
          "name": "stdout",
          "output_type": "stream",
          "text": [
            "Epoch [1/20], Step [100/196], Loss: 2.1333\n",
            "Epoch [2/20], Step [100/196], Loss: 1.9316\n",
            "Epoch [3/20], Step [100/196], Loss: 1.8236\n",
            "Epoch [4/20], Step [100/196], Loss: 1.6120\n",
            "Epoch [5/20], Step [100/196], Loss: 1.6060\n",
            "Epoch [6/20], Step [100/196], Loss: 1.4951\n",
            "Epoch [7/20], Step [100/196], Loss: 1.4209\n",
            "Epoch [8/20], Step [100/196], Loss: 1.2905\n",
            "Epoch [9/20], Step [100/196], Loss: 1.3277\n",
            "Epoch [10/20], Step [100/196], Loss: 1.2982\n",
            "Epoch [11/20], Step [100/196], Loss: 1.3345\n",
            "Epoch [12/20], Step [100/196], Loss: 1.2371\n",
            "Epoch [13/20], Step [100/196], Loss: 1.1746\n",
            "Epoch [14/20], Step [100/196], Loss: 1.1767\n",
            "Epoch [15/20], Step [100/196], Loss: 1.1174\n",
            "Epoch [16/20], Step [100/196], Loss: 0.9692\n",
            "Epoch [17/20], Step [100/196], Loss: 1.1116\n",
            "Epoch [18/20], Step [100/196], Loss: 1.1323\n",
            "Epoch [19/20], Step [100/196], Loss: 0.9683\n",
            "Epoch [20/20], Step [100/196], Loss: 1.0162\n"
          ]
        }
      ],
      "source": [
        "total_steps = len(train_loader)\n",
        "for epoch in range(num_epochs):\n",
        "    model.train()\n",
        "    for i, (images, labels) in enumerate(train_loader):\n",
        "        images = images.to(device)\n",
        "        labels = labels.to(device)\n",
        "        outputs = model(images)\n",
        "        loss = criterion(outputs, labels)\n",
        "        optimizer.zero_grad()\n",
        "        loss.backward()\n",
        "        optimizer.step()\n",
        "        if (i + 1) % 100 == 0:\n",
        "            print(f'Epoch [{epoch+1}/{num_epochs}], Step [{i+1}/{total_steps}], Loss: {loss.item():.4f}')"
      ]
    },
    {
      "cell_type": "code",
      "execution_count": null,
      "metadata": {
        "colab": {
          "base_uri": "https://localhost:8080/"
        },
        "id": "ffAhIG1RosLL",
        "outputId": "55a70fda-669c-4ee0-e246-9174c3ad0d5f"
      },
      "outputs": [
        {
          "name": "stdout",
          "output_type": "stream",
          "text": [
            "Test Accuracy of the model on the 10000 test images: 62.17%\n"
          ]
        }
      ],
      "source": [
        "model.eval()\n",
        "with torch.no_grad():\n",
        "    correct = 0\n",
        "    total = 0\n",
        "    for images, labels in test_loader:\n",
        "        images = images.to(device)\n",
        "        labels = labels.to(device)\n",
        "        outputs = model(images)\n",
        "        _, predicted = torch.max(outputs.data, 1)\n",
        "        total += labels.size(0)\n",
        "        correct += (predicted == labels).sum().item()\n",
        "    accuracy = 100 * correct / total\n",
        "    print(f'Test Accuracy of the model on the {total} test images: {accuracy:.2f}%')"
      ]
    },
    {
      "cell_type": "markdown",
      "metadata": {
        "id": "cut3Rgw-6WWw"
      },
      "source": [
        "---\n",
        "## Pre-Trained Vision Transformer\n",
        "There is also a built-in version of ViT model which was trained on ImageNet-21k at resolution 224 * 224. Here we try this model."
      ]
    },
    {
      "cell_type": "code",
      "execution_count": null,
      "metadata": {
        "id": "bYRkHiZ_w-fy"
      },
      "outputs": [],
      "source": [
        "transform = transforms.Compose([\n",
        "    transforms.Resize((224, 224)),\n",
        "    transforms.ToTensor(),\n",
        "    transforms.Normalize((0.5, 0.5, 0.5), (0.5, 0.5, 0.5))\n",
        "])"
      ]
    },
    {
      "cell_type": "code",
      "execution_count": null,
      "metadata": {
        "colab": {
          "base_uri": "https://localhost:8080/"
        },
        "id": "KhTXX-3z7CXI",
        "outputId": "d71a9f24-8a68-4d10-e0c5-8c7c289984a4"
      },
      "outputs": [
        {
          "name": "stdout",
          "output_type": "stream",
          "text": [
            "Downloading https://www.cs.toronto.edu/~kriz/cifar-10-python.tar.gz to ./data/cifar-10-python.tar.gz\n"
          ]
        },
        {
          "name": "stderr",
          "output_type": "stream",
          "text": [
            "100%|██████████| 170498071/170498071 [00:04<00:00, 42503736.94it/s]\n"
          ]
        },
        {
          "name": "stdout",
          "output_type": "stream",
          "text": [
            "Extracting ./data/cifar-10-python.tar.gz to ./data\n",
            "Files already downloaded and verified\n"
          ]
        }
      ],
      "source": [
        "train_dataset = CIFAR10(root='./data', train=True, download=True, transform=transform)\n",
        "test_dataset = CIFAR10(root='./data', train=False, download=True, transform=transform)\n",
        "\n",
        "train_loader = DataLoader(dataset=train_dataset, batch_size=256, shuffle=True)\n",
        "test_loader = DataLoader(dataset=test_dataset, batch_size=256, shuffle=False)"
      ]
    },
    {
      "cell_type": "code",
      "execution_count": null,
      "metadata": {
        "colab": {
          "base_uri": "https://localhost:8080/",
          "height": 207,
          "referenced_widgets": [
            "9a320ed20f334618badc57ea72809b00",
            "bb12c0581b564445bab0f91e2d9a098f",
            "ace7475e6fc840c2b762911fda84ff28",
            "ce8f90eb3ad24e99a3b6668718ebd0a7",
            "f5202206586e4c329bbcc39de1c94264",
            "cf616281a03046628d95aae643608d96",
            "461aba97107a4352899aeebae8c518ec",
            "98ae0a865b9948c1b6e614d543ce9210",
            "8c34bc9b82a4426095f9c919d290139f",
            "57cafc338c5c414f828ec78345ade606",
            "7508183ccb7e4e3980621ee2beff9d44",
            "dfedc00f4ce749f0b3d8048dbae94659",
            "d0260e4e3ec145d3a94f9ddd8df87f00",
            "a39e07d1a9ec4fb1a83b73b03d3c3721",
            "bd53b0fff93e4e77a3a3248e32c77b7a",
            "3d5f89633df44e9f9423de94c8dcb11b",
            "01f313aa78dd4fb9a43eeef2ac9c2f25",
            "4410ab23cd7b47a39e56d43d18aecb29",
            "0dffb96249394778817764ab7ae73f55",
            "4e4e74e14d414e249fb27163de2b7178",
            "aeddbd0347e84be29068b10d98cfa113",
            "3905d7327c6c4dcfae873cb34c41603f"
          ]
        },
        "id": "kIuGOQ4I7Iq7",
        "outputId": "5facc9d7-6d31-4036-ba5c-f61100482b94"
      },
      "outputs": [
        {
          "name": "stderr",
          "output_type": "stream",
          "text": [
            "/usr/local/lib/python3.10/dist-packages/huggingface_hub/utils/_token.py:89: UserWarning: \n",
            "The secret `HF_TOKEN` does not exist in your Colab secrets.\n",
            "To authenticate with the Hugging Face Hub, create a token in your settings tab (https://huggingface.co/settings/tokens), set it as secret in your Google Colab and restart your session.\n",
            "You will be able to reuse this secret in all of your notebooks.\n",
            "Please note that authentication is recommended but still optional to access public models or datasets.\n",
            "  warnings.warn(\n"
          ]
        },
        {
          "data": {
            "application/vnd.jupyter.widget-view+json": {
              "model_id": "9a320ed20f334618badc57ea72809b00",
              "version_major": 2,
              "version_minor": 0
            },
            "text/plain": [
              "config.json:   0%|          | 0.00/502 [00:00<?, ?B/s]"
            ]
          },
          "metadata": {},
          "output_type": "display_data"
        },
        {
          "data": {
            "application/vnd.jupyter.widget-view+json": {
              "model_id": "dfedc00f4ce749f0b3d8048dbae94659",
              "version_major": 2,
              "version_minor": 0
            },
            "text/plain": [
              "model.safetensors:   0%|          | 0.00/346M [00:00<?, ?B/s]"
            ]
          },
          "metadata": {},
          "output_type": "display_data"
        }
      ],
      "source": [
        "vit_model = ViTModel.from_pretrained('google/vit-base-patch16-224-in21k')"
      ]
    },
    {
      "cell_type": "markdown",
      "metadata": {
        "id": "_GpmVyt17QUs"
      },
      "source": [
        "Freezing params"
      ]
    },
    {
      "cell_type": "code",
      "execution_count": null,
      "metadata": {
        "id": "4_UZFWJ37MCa"
      },
      "outputs": [],
      "source": [
        "for param in vit_model.parameters():\n",
        "      param.requires_grad = False"
      ]
    },
    {
      "cell_type": "markdown",
      "metadata": {
        "id": "YlzeeRmX7_v_"
      },
      "source": [
        "Designing the network"
      ]
    },
    {
      "cell_type": "code",
      "execution_count": null,
      "metadata": {
        "id": "h2ffdZJr7R2s"
      },
      "outputs": [],
      "source": [
        "class ViTForImageClassification(nn.Module):\n",
        "    def __init__(self, num_labels=10):\n",
        "        super(ViTForImageClassification, self).__init__()\n",
        "        self.vit = vit_model\n",
        "        self.dropout = nn.Dropout(0.1)\n",
        "        self.classifier = nn.Linear(self.vit.config.hidden_size, num_labels)\n",
        "        self.num_labels = num_labels\n",
        "\n",
        "    def forward(self, pixel_values):\n",
        "        outputs = self.vit(pixel_values=pixel_values)\n",
        "        output = self.dropout(outputs.last_hidden_state[:, 0])\n",
        "        logits = self.classifier(output)\n",
        "        return logits"
      ]
    },
    {
      "cell_type": "code",
      "execution_count": null,
      "metadata": {
        "id": "VdmKsYAW7dtL"
      },
      "outputs": [],
      "source": [
        "device = torch.device('cuda' if torch.cuda.is_available() else 'cpu')"
      ]
    },
    {
      "cell_type": "code",
      "execution_count": null,
      "metadata": {
        "id": "nD05X1HP7Vym"
      },
      "outputs": [],
      "source": [
        "model = ViTForImageClassification()\n",
        "model = model.to(device)"
      ]
    },
    {
      "cell_type": "code",
      "execution_count": null,
      "metadata": {
        "id": "dJKSSMLQ7ebe"
      },
      "outputs": [],
      "source": [
        "criterion = nn.CrossEntropyLoss()\n",
        "optimizer = torch.optim.Adam(model.parameters(), lr=0.001)\n",
        "epochs = 3"
      ]
    },
    {
      "cell_type": "markdown",
      "metadata": {
        "id": "RCyLEVHJ8HFX"
      },
      "source": [
        "Training loop"
      ]
    },
    {
      "cell_type": "code",
      "execution_count": null,
      "metadata": {
        "colab": {
          "base_uri": "https://localhost:8080/"
        },
        "id": "_uezGPfK7lRN",
        "outputId": "babd9ad8-d79e-4b08-82e4-2d68b290ff32"
      },
      "outputs": [
        {
          "name": "stdout",
          "output_type": "stream",
          "text": [
            "Epoch [1/3], Step [100/196], Loss: 0.3800\n",
            "Epoch [2/3], Step [100/196], Loss: 0.1560\n",
            "Epoch [3/3], Step [100/196], Loss: 0.1324\n"
          ]
        }
      ],
      "source": [
        "total_steps = len(train_loader)\n",
        "for epoch in range(epochs):\n",
        "    model.train()\n",
        "    for i, (images, labels) in enumerate(train_loader):\n",
        "        images = images.to(device)\n",
        "        labels = labels.to(device)\n",
        "        outputs = model(images)\n",
        "        loss = criterion(outputs, labels)\n",
        "        optimizer.zero_grad()\n",
        "        loss.backward()\n",
        "        optimizer.step()\n",
        "        if (i + 1) % 100 == 0:\n",
        "            print(f'Epoch [{epoch + 1}/{epochs}], Step [{i + 1}/{total_steps}], Loss: {loss.item():.4f}')"
      ]
    },
    {
      "cell_type": "markdown",
      "metadata": {
        "id": "X0glh_bFHs67"
      },
      "source": [
        "Even after 3 epochs, the result was amazing in comparison to the previous model."
      ]
    },
    {
      "cell_type": "markdown",
      "metadata": {
        "id": "O4lN9fiJ8Ivc"
      },
      "source": [
        "Evaluation and test"
      ]
    },
    {
      "cell_type": "code",
      "execution_count": null,
      "metadata": {
        "colab": {
          "base_uri": "https://localhost:8080/"
        },
        "id": "MQYiobNS70gY",
        "outputId": "45dedd98-9904-4349-b800-69f4582668aa"
      },
      "outputs": [
        {
          "name": "stdout",
          "output_type": "stream",
          "text": [
            "Test Accuracy of the model on the 10000 test images: 96.10%\n"
          ]
        }
      ],
      "source": [
        "model.eval()\n",
        "with torch.no_grad():\n",
        "    correct = 0\n",
        "    total = 0\n",
        "    for images, labels in test_loader:\n",
        "        images = images.to(device)\n",
        "        labels = labels.to(device)\n",
        "        outputs = model(images)\n",
        "        _, predicted = torch.max(outputs.data, 1)\n",
        "        total += labels.size(0)\n",
        "        correct += (predicted == labels).sum().item()\n",
        "    accuracy = 100 * correct / total\n",
        "    print(f'Test Accuracy of the model on the {total} test images: {accuracy:.2f}%')"
      ]
    },
    {
      "cell_type": "code",
      "execution_count": null,
      "metadata": {
        "id": "rpJ8ypzzGywN"
      },
      "outputs": [],
      "source": [
        "torch.save(model.state_dict(), 'pre-trained ViT.pth')"
      ]
    },
    {
      "cell_type": "markdown",
      "metadata": {
        "id": "VDOoNCcrRik9"
      },
      "source": [
        "---\n",
        "## Pre-Trained CNNs\n",
        "Here we compare the result of the last past with one of the pre-trained CNN models."
      ]
    },
    {
      "cell_type": "code",
      "execution_count": null,
      "metadata": {
        "id": "9OohaoVBRhIM"
      },
      "outputs": [],
      "source": [
        "transform = transforms.Compose([\n",
        "    transforms.Resize((224, 224)),\n",
        "    transforms.ToTensor(),\n",
        "    transforms.Normalize((0.5, 0.5, 0.5), (0.5, 0.5, 0.5))\n",
        "])"
      ]
    },
    {
      "cell_type": "code",
      "execution_count": null,
      "metadata": {
        "colab": {
          "base_uri": "https://localhost:8080/"
        },
        "id": "ox-yd7kBSJsM",
        "outputId": "13e2d7d2-40e1-4ca4-cba3-d14fed0e2d04"
      },
      "outputs": [
        {
          "name": "stdout",
          "output_type": "stream",
          "text": [
            "Files already downloaded and verified\n",
            "Files already downloaded and verified\n"
          ]
        }
      ],
      "source": [
        "train_dataset = CIFAR10(root='./data', train=True, download=True, transform=transform)\n",
        "test_dataset = CIFAR10(root='./data', train=False, download=True, transform=transform)\n",
        "\n",
        "train_loader = DataLoader(dataset=train_dataset, batch_size=256, shuffle=True)\n",
        "test_loader = DataLoader(dataset=test_dataset, batch_size=256, shuffle=False)"
      ]
    },
    {
      "cell_type": "markdown",
      "metadata": {
        "id": "vnoE37DjSe4f"
      },
      "source": [
        "Here we used ResNet18"
      ]
    },
    {
      "cell_type": "code",
      "execution_count": null,
      "metadata": {
        "colab": {
          "base_uri": "https://localhost:8080/"
        },
        "id": "b-EGE1bYSNFn",
        "outputId": "5afc83a2-4886-48b5-d009-4266d9d24c04"
      },
      "outputs": [
        {
          "name": "stderr",
          "output_type": "stream",
          "text": [
            "/usr/local/lib/python3.10/dist-packages/torchvision/models/_utils.py:208: UserWarning: The parameter 'pretrained' is deprecated since 0.13 and may be removed in the future, please use 'weights' instead.\n",
            "  warnings.warn(\n",
            "/usr/local/lib/python3.10/dist-packages/torchvision/models/_utils.py:223: UserWarning: Arguments other than a weight enum or `None` for 'weights' are deprecated since 0.13 and may be removed in the future. The current behavior is equivalent to passing `weights=ResNet18_Weights.IMAGENET1K_V1`. You can also use `weights=ResNet18_Weights.DEFAULT` to get the most up-to-date weights.\n",
            "  warnings.warn(msg)\n"
          ]
        }
      ],
      "source": [
        "model = models.resnet18(pretrained=True)\n",
        "num_ftrs = model.fc.in_features\n",
        "model.fc = nn.Linear(num_ftrs, 10)"
      ]
    },
    {
      "cell_type": "code",
      "execution_count": null,
      "metadata": {
        "id": "BxaYetuqSzSY"
      },
      "outputs": [],
      "source": [
        "device = torch.device('cuda' if torch.cuda.is_available() else 'cpu')\n",
        "model = model.to(device)"
      ]
    },
    {
      "cell_type": "code",
      "execution_count": null,
      "metadata": {
        "id": "abYnRIdhSpMw"
      },
      "outputs": [],
      "source": [
        "criterion = nn.CrossEntropyLoss()\n",
        "optimizer = torch.optim.Adam(model.parameters(), lr=0.001)\n",
        "epochs = 3"
      ]
    },
    {
      "cell_type": "code",
      "execution_count": null,
      "metadata": {
        "colab": {
          "base_uri": "https://localhost:8080/"
        },
        "id": "yCrDGwCPTUEL",
        "outputId": "7cedcc7e-6e66-484c-b74e-2a4cf6166c8d"
      },
      "outputs": [
        {
          "name": "stdout",
          "output_type": "stream",
          "text": [
            "Epoch [1/3], Step [100/196], Loss: 0.3257\n",
            "Epoch [2/3], Step [100/196], Loss: 0.1958\n",
            "Epoch [3/3], Step [100/196], Loss: 0.0993\n"
          ]
        }
      ],
      "source": [
        "total_steps = len(train_loader)\n",
        "for epoch in range(epochs):\n",
        "    model.train()\n",
        "    for i, (images, labels) in enumerate(train_loader):\n",
        "        images = images.to(device)\n",
        "        labels = labels.to(device)\n",
        "        outputs = model(images)\n",
        "        loss = criterion(outputs, labels)\n",
        "        optimizer.zero_grad()\n",
        "        loss.backward()\n",
        "        optimizer.step()\n",
        "        if (i + 1) % 100 == 0:\n",
        "            print(f'Epoch [{epoch + 1}/{epochs}], Step [{i + 1}/{total_steps}], Loss: {loss.item():.4f}')"
      ]
    },
    {
      "cell_type": "code",
      "execution_count": null,
      "metadata": {
        "colab": {
          "base_uri": "https://localhost:8080/"
        },
        "id": "JQIWktvwTWow",
        "outputId": "83d6ea27-e974-4d1d-bfa3-613e5ecf28cb"
      },
      "outputs": [
        {
          "name": "stdout",
          "output_type": "stream",
          "text": [
            "Test Accuracy of the model on the 10000 test images: 89.34%\n"
          ]
        }
      ],
      "source": [
        "model.eval()\n",
        "with torch.no_grad():\n",
        "    correct = 0\n",
        "    total = 0\n",
        "    for images, labels in test_loader:\n",
        "        images = images.to(device)\n",
        "        labels = labels.to(device)\n",
        "        outputs = model(images)\n",
        "        _, predicted = torch.max(outputs.data, 1)\n",
        "        total += labels.size(0)\n",
        "        correct += (predicted == labels).sum().item()\n",
        "    accuracy = 100 * correct / total\n",
        "    print(f'Test Accuracy of the model on the {total} test images: {accuracy:.2f}%')"
      ]
    },
    {
      "cell_type": "markdown",
      "metadata": {
        "id": "uefY8B5uXm3I"
      },
      "source": [
        "ViT was better than ResNet18 although ResNet18 had a better result on training set.\n",
        "\n",
        "This means that vision transformers are more generalized than CNNs"
      ]
    },
    {
      "cell_type": "code",
      "execution_count": null,
      "metadata": {
        "id": "HbrXglsPXl7w",
        "outputId": "75589a21-83bf-488c-a170-d5a3ab9478e6"
      },
      "outputs": [
        {
          "data": {
            "image/png": "[encoded data removed]",
            "text/plain": [
              "<Figure size 720x432 with 1 Axes>"
            ]
          },
          "metadata": {},
          "output_type": "display_data"
        }
      ],
      "source": [
        "import matplotlib.pyplot as plt\n",
        "\n",
        "# Data\n",
        "models = ['ViT', 'Pre-trained ViT', 'ResNet18']\n",
        "values = [62.17, 96.1, 89.34]\n",
        "\n",
        "# Create the bar chart\n",
        "plt.figure(figsize=(10, 6))\n",
        "plt.bar(models, values, color=['blue', 'green', 'red'])\n",
        "\n",
        "# Add titles and labels\n",
        "plt.title('Model Performance Comparison')\n",
        "plt.xlabel('Models')\n",
        "plt.ylabel('Performance (%)')\n",
        "\n",
        "# Show the plot\n",
        "plt.show()\n"
      ]
    },
    {
      "cell_type": "code",
      "execution_count": null,
      "metadata": {
        "id": "KcGFbtkm0zDN"
      },
      "outputs": [],
      "source": []
    }
  ],
  "metadata": {
    "accelerator": "GPU",
    "colab": {
      "gpuType": "T4",
      "provenance": [],
      "toc_visible": true
    },
    "kernelspec": {
      "display_name": "Python 3 (ipykernel)",
      "language": "python",
      "name": "python3"
    },
    "language_info": {
      "codemirror_mode": {
        "name": "ipython",
        "version": 3
      },
      "file_extension": ".py",
      "mimetype": "text/x-python",
      "name": "python",
      "nbconvert_exporter": "python",
      "pygments_lexer": "ipython3",
      "version": "3.9.12"
    },
    "widgets": {
      "application/vnd.jupyter.widget-state+json": {
        "01f313aa78dd4fb9a43eeef2ac9c2f25": {
          "model_module": "@jupyter-widgets/base",
          "model_module_version": "1.2.0",
          "model_name": "LayoutModel",
          "state": {
            "_model_module": "@jupyter-widgets/base",
            "_model_module_version": "1.2.0",
            "_model_name": "LayoutModel",
            "_view_count": null,
            "_view_module": "@jupyter-widgets/base",
            "_view_module_version": "1.2.0",
            "_view_name": "LayoutView",
            "align_content": null,
            "align_items": null,
            "align_self": null,
            "border": null,
            "bottom": null,
            "display": null,
            "flex": null,
            "flex_flow": null,
            "grid_area": null,
            "grid_auto_columns": null,
            "grid_auto_flow": null,
            "grid_auto_rows": null,
            "grid_column": null,
            "grid_gap": null,
            "grid_row": null,
            "grid_template_areas": null,
            "grid_template_columns": null,
            "grid_template_rows": null,
            "height": null,
            "justify_content": null,
            "justify_items": null,
            "left": null,
            "margin": null,
            "max_height": null,
            "max_width": null,
            "min_height": null,
            "min_width": null,
            "object_fit": null,
            "object_position": null,
            "order": null,
            "overflow": null,
            "overflow_x": null,
            "overflow_y": null,
            "padding": null,
            "right": null,
            "top": null,
            "visibility": null,
            "width": null
          }
        },
        "0dffb96249394778817764ab7ae73f55": {
          "model_module": "@jupyter-widgets/base",
          "model_module_version": "1.2.0",
          "model_name": "LayoutModel",
          "state": {
            "_model_module": "@jupyter-widgets/base",
            "_model_module_version": "1.2.0",
            "_model_name": "LayoutModel",
            "_view_count": null,
            "_view_module": "@jupyter-widgets/base",
            "_view_module_version": "1.2.0",
            "_view_name": "LayoutView",
            "align_content": null,
            "align_items": null,
            "align_self": null,
            "border": null,
            "bottom": null,
            "display": null,
            "flex": null,
            "flex_flow": null,
            "grid_area": null,
            "grid_auto_columns": null,
            "grid_auto_flow": null,
            "grid_auto_rows": null,
            "grid_column": null,
            "grid_gap": null,
            "grid_row": null,
            "grid_template_areas": null,
            "grid_template_columns": null,
            "grid_template_rows": null,
            "height": null,
            "justify_content": null,
            "justify_items": null,
            "left": null,
            "margin": null,
            "max_height": null,
            "max_width": null,
            "min_height": null,
            "min_width": null,
            "object_fit": null,
            "object_position": null,
            "order": null,
            "overflow": null,
            "overflow_x": null,
            "overflow_y": null,
            "padding": null,
            "right": null,
            "top": null,
            "visibility": null,
            "width": null
          }
        },
        "3905d7327c6c4dcfae873cb34c41603f": {
          "model_module": "@jupyter-widgets/controls",
          "model_module_version": "1.5.0",
          "model_name": "DescriptionStyleModel",
          "state": {
            "_model_module": "@jupyter-widgets/controls",
            "_model_module_version": "1.5.0",
            "_model_name": "DescriptionStyleModel",
            "_view_count": null,
            "_view_module": "@jupyter-widgets/base",
            "_view_module_version": "1.2.0",
            "_view_name": "StyleView",
            "description_width": ""
          }
        },
        "3d5f89633df44e9f9423de94c8dcb11b": {
          "model_module": "@jupyter-widgets/base",
          "model_module_version": "1.2.0",
          "model_name": "LayoutModel",
          "state": {
            "_model_module": "@jupyter-widgets/base",
            "_model_module_version": "1.2.0",
            "_model_name": "LayoutModel",
            "_view_count": null,
            "_view_module": "@jupyter-widgets/base",
            "_view_module_version": "1.2.0",
            "_view_name": "LayoutView",
            "align_content": null,
            "align_items": null,
            "align_self": null,
            "border": null,
            "bottom": null,
            "display": null,
            "flex": null,
            "flex_flow": null,
            "grid_area": null,
            "grid_auto_columns": null,
            "grid_auto_flow": null,
            "grid_auto_rows": null,
            "grid_column": null,
            "grid_gap": null,
            "grid_row": null,
            "grid_template_areas": null,
            "grid_template_columns": null,
            "grid_template_rows": null,
            "height": null,
            "justify_content": null,
            "justify_items": null,
            "left": null,
            "margin": null,
            "max_height": null,
            "max_width": null,
            "min_height": null,
            "min_width": null,
            "object_fit": null,
            "object_position": null,
            "order": null,
            "overflow": null,
            "overflow_x": null,
            "overflow_y": null,
            "padding": null,
            "right": null,
            "top": null,
            "visibility": null,
            "width": null
          }
        },
        "4410ab23cd7b47a39e56d43d18aecb29": {
          "model_module": "@jupyter-widgets/controls",
          "model_module_version": "1.5.0",
          "model_name": "DescriptionStyleModel",
          "state": {
            "_model_module": "@jupyter-widgets/controls",
            "_model_module_version": "1.5.0",
            "_model_name": "DescriptionStyleModel",
            "_view_count": null,
            "_view_module": "@jupyter-widgets/base",
            "_view_module_version": "1.2.0",
            "_view_name": "StyleView",
            "description_width": ""
          }
        },
        "461aba97107a4352899aeebae8c518ec": {
          "model_module": "@jupyter-widgets/controls",
          "model_module_version": "1.5.0",
          "model_name": "DescriptionStyleModel",
          "state": {
            "_model_module": "@jupyter-widgets/controls",
            "_model_module_version": "1.5.0",
            "_model_name": "DescriptionStyleModel",
            "_view_count": null,
            "_view_module": "@jupyter-widgets/base",
            "_view_module_version": "1.2.0",
            "_view_name": "StyleView",
            "description_width": ""
          }
        },
        "4e4e74e14d414e249fb27163de2b7178": {
          "model_module": "@jupyter-widgets/controls",
          "model_module_version": "1.5.0",
          "model_name": "ProgressStyleModel",
          "state": {
            "_model_module": "@jupyter-widgets/controls",
            "_model_module_version": "1.5.0",
            "_model_name": "ProgressStyleModel",
            "_view_count": null,
            "_view_module": "@jupyter-widgets/base",
            "_view_module_version": "1.2.0",
            "_view_name": "StyleView",
            "bar_color": null,
            "description_width": ""
          }
        },
        "57cafc338c5c414f828ec78345ade606": {
          "model_module": "@jupyter-widgets/base",
          "model_module_version": "1.2.0",
          "model_name": "LayoutModel",
          "state": {
            "_model_module": "@jupyter-widgets/base",
            "_model_module_version": "1.2.0",
            "_model_name": "LayoutModel",
            "_view_count": null,
            "_view_module": "@jupyter-widgets/base",
            "_view_module_version": "1.2.0",
            "_view_name": "LayoutView",
            "align_content": null,
            "align_items": null,
            "align_self": null,
            "border": null,
            "bottom": null,
            "display": null,
            "flex": null,
            "flex_flow": null,
            "grid_area": null,
            "grid_auto_columns": null,
            "grid_auto_flow": null,
            "grid_auto_rows": null,
            "grid_column": null,
            "grid_gap": null,
            "grid_row": null,
            "grid_template_areas": null,
            "grid_template_columns": null,
            "grid_template_rows": null,
            "height": null,
            "justify_content": null,
            "justify_items": null,
            "left": null,
            "margin": null,
            "max_height": null,
            "max_width": null,
            "min_height": null,
            "min_width": null,
            "object_fit": null,
            "object_position": null,
            "order": null,
            "overflow": null,
            "overflow_x": null,
            "overflow_y": null,
            "padding": null,
            "right": null,
            "top": null,
            "visibility": null,
            "width": null
          }
        },
        "7508183ccb7e4e3980621ee2beff9d44": {
          "model_module": "@jupyter-widgets/controls",
          "model_module_version": "1.5.0",
          "model_name": "DescriptionStyleModel",
          "state": {
            "_model_module": "@jupyter-widgets/controls",
            "_model_module_version": "1.5.0",
            "_model_name": "DescriptionStyleModel",
            "_view_count": null,
            "_view_module": "@jupyter-widgets/base",
            "_view_module_version": "1.2.0",
            "_view_name": "StyleView",
            "description_width": ""
          }
        },
        "8c34bc9b82a4426095f9c919d290139f": {
          "model_module": "@jupyter-widgets/controls",
          "model_module_version": "1.5.0",
          "model_name": "ProgressStyleModel",
          "state": {
            "_model_module": "@jupyter-widgets/controls",
            "_model_module_version": "1.5.0",
            "_model_name": "ProgressStyleModel",
            "_view_count": null,
            "_view_module": "@jupyter-widgets/base",
            "_view_module_version": "1.2.0",
            "_view_name": "StyleView",
            "bar_color": null,
            "description_width": ""
          }
        },
        "98ae0a865b9948c1b6e614d543ce9210": {
          "model_module": "@jupyter-widgets/base",
          "model_module_version": "1.2.0",
          "model_name": "LayoutModel",
          "state": {
            "_model_module": "@jupyter-widgets/base",
            "_model_module_version": "1.2.0",
            "_model_name": "LayoutModel",
            "_view_count": null,
            "_view_module": "@jupyter-widgets/base",
            "_view_module_version": "1.2.0",
            "_view_name": "LayoutView",
            "align_content": null,
            "align_items": null,
            "align_self": null,
            "border": null,
            "bottom": null,
            "display": null,
            "flex": null,
            "flex_flow": null,
            "grid_area": null,
            "grid_auto_columns": null,
            "grid_auto_flow": null,
            "grid_auto_rows": null,
            "grid_column": null,
            "grid_gap": null,
            "grid_row": null,
            "grid_template_areas": null,
            "grid_template_columns": null,
            "grid_template_rows": null,
            "height": null,
            "justify_content": null,
            "justify_items": null,
            "left": null,
            "margin": null,
            "max_height": null,
            "max_width": null,
            "min_height": null,
            "min_width": null,
            "object_fit": null,
            "object_position": null,
            "order": null,
            "overflow": null,
            "overflow_x": null,
            "overflow_y": null,
            "padding": null,
            "right": null,
            "top": null,
            "visibility": null,
            "width": null
          }
        },
        "9a320ed20f334618badc57ea72809b00": {
          "model_module": "@jupyter-widgets/controls",
          "model_module_version": "1.5.0",
          "model_name": "HBoxModel",
          "state": {
            "_dom_classes": [],
            "_model_module": "@jupyter-widgets/controls",
            "_model_module_version": "1.5.0",
            "_model_name": "HBoxModel",
            "_view_count": null,
            "_view_module": "@jupyter-widgets/controls",
            "_view_module_version": "1.5.0",
            "_view_name": "HBoxView",
            "box_style": "",
            "children": [
              "IPY_MODEL_bb12c0581b564445bab0f91e2d9a098f",
              "IPY_MODEL_ace7475e6fc840c2b762911fda84ff28",
              "IPY_MODEL_ce8f90eb3ad24e99a3b6668718ebd0a7"
            ],
            "layout": "IPY_MODEL_f5202206586e4c329bbcc39de1c94264"
          }
        },
        "a39e07d1a9ec4fb1a83b73b03d3c3721": {
          "model_module": "@jupyter-widgets/controls",
          "model_module_version": "1.5.0",
          "model_name": "FloatProgressModel",
          "state": {
            "_dom_classes": [],
            "_model_module": "@jupyter-widgets/controls",
            "_model_module_version": "1.5.0",
            "_model_name": "FloatProgressModel",
            "_view_count": null,
            "_view_module": "@jupyter-widgets/controls",
            "_view_module_version": "1.5.0",
            "_view_name": "ProgressView",
            "bar_style": "success",
            "description": "",
            "description_tooltip": null,
            "layout": "IPY_MODEL_0dffb96249394778817764ab7ae73f55",
            "max": 345579424,
            "min": 0,
            "orientation": "horizontal",
            "style": "IPY_MODEL_4e4e74e14d414e249fb27163de2b7178",
            "value": 345579424
          }
        },
        "ace7475e6fc840c2b762911fda84ff28": {
          "model_module": "@jupyter-widgets/controls",
          "model_module_version": "1.5.0",
          "model_name": "FloatProgressModel",
          "state": {
            "_dom_classes": [],
            "_model_module": "@jupyter-widgets/controls",
            "_model_module_version": "1.5.0",
            "_model_name": "FloatProgressModel",
            "_view_count": null,
            "_view_module": "@jupyter-widgets/controls",
            "_view_module_version": "1.5.0",
            "_view_name": "ProgressView",
            "bar_style": "success",
            "description": "",
            "description_tooltip": null,
            "layout": "IPY_MODEL_98ae0a865b9948c1b6e614d543ce9210",
            "max": 502,
            "min": 0,
            "orientation": "horizontal",
            "style": "IPY_MODEL_8c34bc9b82a4426095f9c919d290139f",
            "value": 502
          }
        },
        "aeddbd0347e84be29068b10d98cfa113": {
          "model_module": "@jupyter-widgets/base",
          "model_module_version": "1.2.0",
          "model_name": "LayoutModel",
          "state": {
            "_model_module": "@jupyter-widgets/base",
            "_model_module_version": "1.2.0",
            "_model_name": "LayoutModel",
            "_view_count": null,
            "_view_module": "@jupyter-widgets/base",
            "_view_module_version": "1.2.0",
            "_view_name": "LayoutView",
            "align_content": null,
            "align_items": null,
            "align_self": null,
            "border": null,
            "bottom": null,
            "display": null,
            "flex": null,
            "flex_flow": null,
            "grid_area": null,
            "grid_auto_columns": null,
            "grid_auto_flow": null,
            "grid_auto_rows": null,
            "grid_column": null,
            "grid_gap": null,
            "grid_row": null,
            "grid_template_areas": null,
            "grid_template_columns": null,
            "grid_template_rows": null,
            "height": null,
            "justify_content": null,
            "justify_items": null,
            "left": null,
            "margin": null,
            "max_height": null,
            "max_width": null,
            "min_height": null,
            "min_width": null,
            "object_fit": null,
            "object_position": null,
            "order": null,
            "overflow": null,
            "overflow_x": null,
            "overflow_y": null,
            "padding": null,
            "right": null,
            "top": null,
            "visibility": null,
            "width": null
          }
        },
        "bb12c0581b564445bab0f91e2d9a098f": {
          "model_module": "@jupyter-widgets/controls",
          "model_module_version": "1.5.0",
          "model_name": "HTMLModel",
          "state": {
            "_dom_classes": [],
            "_model_module": "@jupyter-widgets/controls",
            "_model_module_version": "1.5.0",
            "_model_name": "HTMLModel",
            "_view_count": null,
            "_view_module": "@jupyter-widgets/controls",
            "_view_module_version": "1.5.0",
            "_view_name": "HTMLView",
            "description": "",
            "description_tooltip": null,
            "layout": "IPY_MODEL_cf616281a03046628d95aae643608d96",
            "placeholder": "​",
            "style": "IPY_MODEL_461aba97107a4352899aeebae8c518ec",
            "value": "config.json: 100%"
          }
        },
        "bd53b0fff93e4e77a3a3248e32c77b7a": {
          "model_module": "@jupyter-widgets/controls",
          "model_module_version": "1.5.0",
          "model_name": "HTMLModel",
          "state": {
            "_dom_classes": [],
            "_model_module": "@jupyter-widgets/controls",
            "_model_module_version": "1.5.0",
            "_model_name": "HTMLModel",
            "_view_count": null,
            "_view_module": "@jupyter-widgets/controls",
            "_view_module_version": "1.5.0",
            "_view_name": "HTMLView",
            "description": "",
            "description_tooltip": null,
            "layout": "IPY_MODEL_aeddbd0347e84be29068b10d98cfa113",
            "placeholder": "​",
            "style": "IPY_MODEL_3905d7327c6c4dcfae873cb34c41603f",
            "value": " 346M/346M [00:03&lt;00:00, 102MB/s]"
          }
        },
        "ce8f90eb3ad24e99a3b6668718ebd0a7": {
          "model_module": "@jupyter-widgets/controls",
          "model_module_version": "1.5.0",
          "model_name": "HTMLModel",
          "state": {
            "_dom_classes": [],
            "_model_module": "@jupyter-widgets/controls",
            "_model_module_version": "1.5.0",
            "_model_name": "HTMLModel",
            "_view_count": null,
            "_view_module": "@jupyter-widgets/controls",
            "_view_module_version": "1.5.0",
            "_view_name": "HTMLView",
            "description": "",
            "description_tooltip": null,
            "layout": "IPY_MODEL_57cafc338c5c414f828ec78345ade606",
            "placeholder": "​",
            "style": "IPY_MODEL_7508183ccb7e4e3980621ee2beff9d44",
            "value": " 502/502 [00:00&lt;00:00, 10.6kB/s]"
          }
        },
        "cf616281a03046628d95aae643608d96": {
          "model_module": "@jupyter-widgets/base",
          "model_module_version": "1.2.0",
          "model_name": "LayoutModel",
          "state": {
            "_model_module": "@jupyter-widgets/base",
            "_model_module_version": "1.2.0",
            "_model_name": "LayoutModel",
            "_view_count": null,
            "_view_module": "@jupyter-widgets/base",
            "_view_module_version": "1.2.0",
            "_view_name": "LayoutView",
            "align_content": null,
            "align_items": null,
            "align_self": null,
            "border": null,
            "bottom": null,
            "display": null,
            "flex": null,
            "flex_flow": null,
            "grid_area": null,
            "grid_auto_columns": null,
            "grid_auto_flow": null,
            "grid_auto_rows": null,
            "grid_column": null,
            "grid_gap": null,
            "grid_row": null,
            "grid_template_areas": null,
            "grid_template_columns": null,
            "grid_template_rows": null,
            "height": null,
            "justify_content": null,
            "justify_items": null,
            "left": null,
            "margin": null,
            "max_height": null,
            "max_width": null,
            "min_height": null,
            "min_width": null,
            "object_fit": null,
            "object_position": null,
            "order": null,
            "overflow": null,
            "overflow_x": null,
            "overflow_y": null,
            "padding": null,
            "right": null,
            "top": null,
            "visibility": null,
            "width": null
          }
        },
        "d0260e4e3ec145d3a94f9ddd8df87f00": {
          "model_module": "@jupyter-widgets/controls",
          "model_module_version": "1.5.0",
          "model_name": "HTMLModel",
          "state": {
            "_dom_classes": [],
            "_model_module": "@jupyter-widgets/controls",
            "_model_module_version": "1.5.0",
            "_model_name": "HTMLModel",
            "_view_count": null,
            "_view_module": "@jupyter-widgets/controls",
            "_view_module_version": "1.5.0",
            "_view_name": "HTMLView",
            "description": "",
            "description_tooltip": null,
            "layout": "IPY_MODEL_01f313aa78dd4fb9a43eeef2ac9c2f25",
            "placeholder": "​",
            "style": "IPY_MODEL_4410ab23cd7b47a39e56d43d18aecb29",
            "value": "model.safetensors: 100%"
          }
        },
        "dfedc00f4ce749f0b3d8048dbae94659": {
          "model_module": "@jupyter-widgets/controls",
          "model_module_version": "1.5.0",
          "model_name": "HBoxModel",
          "state": {
            "_dom_classes": [],
            "_model_module": "@jupyter-widgets/controls",
            "_model_module_version": "1.5.0",
            "_model_name": "HBoxModel",
            "_view_count": null,
            "_view_module": "@jupyter-widgets/controls",
            "_view_module_version": "1.5.0",
            "_view_name": "HBoxView",
            "box_style": "",
            "children": [
              "IPY_MODEL_d0260e4e3ec145d3a94f9ddd8df87f00",
              "IPY_MODEL_a39e07d1a9ec4fb1a83b73b03d3c3721",
              "IPY_MODEL_bd53b0fff93e4e77a3a3248e32c77b7a"
            ],
            "layout": "IPY_MODEL_3d5f89633df44e9f9423de94c8dcb11b"
          }
        },
        "f5202206586e4c329bbcc39de1c94264": {
          "model_module": "@jupyter-widgets/base",
          "model_module_version": "1.2.0",
          "model_name": "LayoutModel",
          "state": {
            "_model_module": "@jupyter-widgets/base",
            "_model_module_version": "1.2.0",
            "_model_name": "LayoutModel",
            "_view_count": null,
            "_view_module": "@jupyter-widgets/base",
            "_view_module_version": "1.2.0",
            "_view_name": "LayoutView",
            "align_content": null,
            "align_items": null,
            "align_self": null,
            "border": null,
            "bottom": null,
            "display": null,
            "flex": null,
            "flex_flow": null,
            "grid_area": null,
            "grid_auto_columns": null,
            "grid_auto_flow": null,
            "grid_auto_rows": null,
            "grid_column": null,
            "grid_gap": null,
            "grid_row": null,
            "grid_template_areas": null,
            "grid_template_columns": null,
            "grid_template_rows": null,
            "height": null,
            "justify_content": null,
            "justify_items": null,
            "left": null,
            "margin": null,
            "max_height": null,
            "max_width": null,
            "min_height": null,
            "min_width": null,
            "object_fit": null,
            "object_position": null,
            "order": null,
            "overflow": null,
            "overflow_x": null,
            "overflow_y": null,
            "padding": null,
            "right": null,
            "top": null,
            "visibility": null,
            "width": null
          }
        }
      }
    }
  },
  "nbformat": 4,
  "nbformat_minor": 0
}